{
 "cells": [
  {
   "cell_type": "code",
   "execution_count": 1,
   "metadata": {},
   "outputs": [],
   "source": [
    "%load_ext autoreload\n",
    "%autoreload 2"
   ]
  },
  {
   "cell_type": "code",
   "execution_count": 4,
   "metadata": {},
   "outputs": [],
   "source": [
    "from pathlib import Path\n",
    "from typing import Literal, cast\n",
    "\n",
    "from shapely.geometry import Point\n",
    "from scipy.signal import find_peaks\n",
    "import numpy as np\n",
    "\n",
    "from s2shores.bathy_debug.spatial_correlation_bathy_estimator_debug import SpatialCorrelationBathyEstimatorDebug\n",
    "from s2shores.local_bathymetry.spatial_correlation_bathy_estimation import SpatialCorrelationBathyEstimation\n",
    "from s2shores.waves_exceptions import WavesEstimationError, NotExploitableSinogram\n",
    "from s2shores.image_processing.waves_radon import WavesRadon\n",
    "from s2shores.generic_utils.image_utils import normalized_cross_correlation\n",
    "from s2shores.generic_utils.signal_utils import find_period_from_zeros\n",
    "from s2shores.bathy_physics import celerity_offshore, period_offshore, wavelength_offshore\n",
    "\n",
    "from utils import initialize_sequential_run, build_dataset"
   ]
  },
  {
   "cell_type": "code",
   "execution_count": 5,
   "metadata": {},
   "outputs": [],
   "source": [
    "base_path = Path(\"../TestsS2Shores\").resolve()\n",
    "test_case: Literal[\"7_4\", \"8_2\"] = \"8_2\"\n",
    "method: Literal[\"spatial_corr\", \"spatial_dft\", \"temporal_corr\"] = \"spatial_corr\"\n",
    "\n",
    "product_path: Path = base_path / \"products\" / f\"SWASH_{test_case}/testcase_{test_case}.tif\"\n",
    "config_path: Path = base_path / f\"reference_results/debug_pointswash_{method}/wave_bathy_inversion_config.yaml\"\n",
    "debug_file: Path = base_path / f\"debug_points/debug_points_SWASH_{test_case}.yaml\"\n",
    "\n",
    "estimation_point = Point(451.0, 499.0)"
   ]
  },
  {
   "cell_type": "code",
   "execution_count": 17,
   "metadata": {},
   "outputs": [
    {
     "name": "stderr",
     "output_type": "stream",
     "text": [
      "/home/geoffrey/miniconda3/envs/s2shores_env/lib/python3.12/site-packages/distributed/node.py:187: UserWarning: Port 8787 is already in use.\n",
      "Perhaps you already have a cluster running?\n",
      "Hosting the HTTP server on port 33621 instead\n",
      "  warnings.warn(\n"
     ]
    }
   ],
   "source": [
    "bathy_estimator, ortho_bathy_estimator, ortho_sequence, config = initialize_sequential_run(\n",
    "    product_path=product_path,\n",
    "    config_path=config_path,\n",
    "    point=estimation_point,\n",
    ")"
   ]
  },
  {
   "cell_type": "markdown",
   "metadata": {},
   "source": [
    "If you want to change any parameter of the configuration, modify the values of the object `config` as you would with a dict.  \n",
    "\n",
    "Example:\n",
    "```python\n",
    "config[\"parameter\"] = \"new_value\"\n",
    "```"
   ]
  },
  {
   "cell_type": "code",
   "execution_count": 18,
   "metadata": {},
   "outputs": [],
   "source": [
    "self = SpatialCorrelationBathyEstimatorDebug(\n",
    "    estimation_point,\n",
    "    ortho_sequence,\n",
    "    bathy_estimator,\n",
    ")\n",
    "\n",
    "if not self.can_estimate_bathy():\n",
    "    raise WavesEstimationError(\"Cannot estimate bathy.\")"
   ]
  },
  {
   "cell_type": "markdown",
   "metadata": {},
   "source": [
    "## Preprocess images\n",
    "\n",
    "Modified attributes:\n",
    "- local_estimator.ortho_sequence.\\<elements\\>"
   ]
  },
  {
   "cell_type": "code",
   "execution_count": null,
   "metadata": {},
   "outputs": [],
   "source": [
    "from copy import deepcopy, copy\n",
    "\n",
    "def debug(\n",
    "        obj,\n",
    "        func,\n",
    "        *args,\n",
    "        display_obj=lambda obj, res: display(res),\n",
    "        **kwargs,\n",
    "):\n",
    "    copied_obj = deepcopy(obj)\n",
    "    result = func(copied_obj, *args, **kwargs)\n",
    "    display(display_obj(copied_obj, result))\n",
    "\n",
    "    user_response = input(\"Do you want to rollback those modifications? [y]/n\\n\")\n",
    "\n",
    "    match user_response.lower():\n",
    "        case \"\" | \"y\" | \"yes\":\n",
    "            return obj\n",
    "        case \"n\" | \"no\":\n",
    "            return func(obj, *args, **kwargs)\n",
    "        case _:\n",
    "            print(\"Input not understood. Rolling back...\")\n"
   ]
  },
  {
   "cell_type": "code",
   "execution_count": 37,
   "metadata": {},
   "outputs": [
    {
     "data": {
      "text/plain": [
       "array([[0.2707773 , 0.39541137, 0.52350542, ..., 1.23557564, 1.29505486,\n",
       "        1.31401977],\n",
       "       [0.27077882, 0.39541111, 0.52350444, ..., 1.23556214, 1.29504876,\n",
       "        1.31402177],\n",
       "       [0.27077367, 0.39540125, 0.52348993, ..., 1.23552036, 1.2950183 ,\n",
       "        1.31400467],\n",
       "       ...,\n",
       "       [0.27065968, 0.39527219, 0.52331731, ..., 1.2352353 , 1.29468456,\n",
       "        1.31365961],\n",
       "       [0.27069273, 0.39531591, 0.52336067, ..., 1.23525244, 1.29470838,\n",
       "        1.31369012],\n",
       "       [0.27072097, 0.39535941, 0.52340656, ..., 1.23525693, 1.29471312,\n",
       "        1.31369999]])"
      ]
     },
     "execution_count": 37,
     "metadata": {},
     "output_type": "execute_result"
    }
   ],
   "source": [
    "self.ortho_sequence[0].pixels"
   ]
  },
  {
   "cell_type": "code",
   "execution_count": 36,
   "metadata": {},
   "outputs": [
    {
     "name": "stdout",
     "output_type": "stream",
     "text": [
      "() {}\n",
      "<s2shores.bathy_debug.spatial_correlation_bathy_estimator_debug.SpatialCorrelationBathyEstimatorDebug object at 0x7f4840168bf0>\n"
     ]
    },
    {
     "data": {
      "text/plain": [
       "array([[0.2707773 , 0.39541137, 0.52350542, ..., 1.23557564, 1.29505486,\n",
       "        1.31401977],\n",
       "       [0.27077882, 0.39541111, 0.52350444, ..., 1.23556214, 1.29504876,\n",
       "        1.31402177],\n",
       "       [0.27077367, 0.39540125, 0.52348993, ..., 1.23552036, 1.2950183 ,\n",
       "        1.31400467],\n",
       "       ...,\n",
       "       [0.27065968, 0.39527219, 0.52331731, ..., 1.2352353 , 1.29468456,\n",
       "        1.31365961],\n",
       "       [0.27069273, 0.39531591, 0.52336067, ..., 1.23525244, 1.29470838,\n",
       "        1.31369012],\n",
       "       [0.27072097, 0.39535941, 0.52340656, ..., 1.23525693, 1.29471312,\n",
       "        1.31369999]])"
      ]
     },
     "metadata": {},
     "output_type": "display_data"
    },
    {
     "data": {
      "text/plain": [
       "<s2shores.bathy_debug.spatial_correlation_bathy_estimator_debug.SpatialCorrelationBathyEstimatorDebug at 0x7f48401b39e0>"
      ]
     },
     "execution_count": 36,
     "metadata": {},
     "output_type": "execute_result"
    }
   ],
   "source": [
    "debug(\n",
    "    self,\n",
    "    SpatialCorrelationBathyEstimatorDebug.preprocess_images,\n",
    "    display_obj=lambda obj, res: obj.ortho_sequence[0].pixels,\n",
    ")\n"
   ]
  },
  {
   "cell_type": "code",
   "execution_count": 13,
   "metadata": {},
   "outputs": [
    {
     "data": {
      "text/plain": [
       "array([[0.2707773 , 0.39541137, 0.52350542, ..., 1.23557564, 1.29505486,\n",
       "        1.31401977],\n",
       "       [0.27077882, 0.39541111, 0.52350444, ..., 1.23556214, 1.29504876,\n",
       "        1.31402177],\n",
       "       [0.27077367, 0.39540125, 0.52348993, ..., 1.23552036, 1.2950183 ,\n",
       "        1.31400467],\n",
       "       ...,\n",
       "       [0.27065968, 0.39527219, 0.52331731, ..., 1.2352353 , 1.29468456,\n",
       "        1.31365961],\n",
       "       [0.27069273, 0.39531591, 0.52336067, ..., 1.23525244, 1.29470838,\n",
       "        1.31369012],\n",
       "       [0.27072097, 0.39535941, 0.52340656, ..., 1.23525693, 1.29471312,\n",
       "        1.31369999]])"
      ]
     },
     "execution_count": 13,
     "metadata": {},
     "output_type": "execute_result"
    }
   ],
   "source": [
    "self.ortho_sequence[0].pixels"
   ]
  },
  {
   "cell_type": "markdown",
   "metadata": {},
   "source": [
    "## Find direction\n",
    "\n",
    "Modified attributes:\n",
    "- None"
   ]
  },
  {
   "cell_type": "code",
   "execution_count": null,
   "metadata": {},
   "outputs": [],
   "source": [
    "if True:\n",
    "    estimated_direction = self.find_direction()\n",
    "else:\n",
    "    tmp_wavesradon = WavesRadon(\n",
    "        self.ortho_sequence[0],\n",
    "        self.selected_directions,\n",
    "    )\n",
    "    estimated_direction, _ = tmp_wavesradon.get_direction_maximum_variance()"
   ]
  },
  {
   "cell_type": "markdown",
   "metadata": {},
   "source": [
    "## Compute radon transforms\n",
    "\n",
    "New elements:\n",
    "- local_estimator.randon_transforms"
   ]
  },
  {
   "cell_type": "code",
   "execution_count": null,
   "metadata": {},
   "outputs": [],
   "source": [
    "if True:\n",
    "    self.compute_radon_transforms(estimated_direction)\n",
    "else:\n",
    "    for image in self.ortho_sequence:\n",
    "        radon_transform = WavesRadon(image, np.array([estimated_direction]))\n",
    "        radon_transform_augmented = radon_transform.radon_augmentation(\n",
    "            self.radon_augmentation_factor)\n",
    "        self.radon_transforms.append(radon_transform_augmented)"
   ]
  },
  {
   "cell_type": "markdown",
   "metadata": {},
   "source": [
    "## Compute spatial correlation\n",
    "\n",
    "New elements:\n",
    "- local_estimator.sinograms"
   ]
  },
  {
   "cell_type": "code",
   "execution_count": null,
   "metadata": {},
   "outputs": [],
   "source": [
    "if True:\n",
    "    correlation_signal = self.compute_spatial_correlation(estimated_direction)\n",
    "else:\n",
    "    for radon_transform in self.radon_transforms:\n",
    "        tmp_wavessinogram = radon_transform[estimated_direction]\n",
    "        tmp_wavessinogram.values *= tmp_wavessinogram.variance\n",
    "        self.sinograms.append(tmp_wavessinogram)\n",
    "    sinogram_1 = self.sinograms[0].values\n",
    "    # TODO: should be independent from 0/1 (for multiple pairs of frames)\n",
    "    sinogram_2 = self.sinograms[1].values\n",
    "    correl_mode = self.local_estimator_params['CORRELATION_MODE']\n",
    "    corr_init = normalized_cross_correlation(sinogram_1, sinogram_2, correl_mode)\n",
    "    corr_init_ac = normalized_cross_correlation(corr_init, corr_init, correl_mode)\n",
    "    corr_1 = normalized_cross_correlation(corr_init_ac, sinogram_1, correl_mode)\n",
    "    corr_2 = normalized_cross_correlation(corr_init_ac, sinogram_2, correl_mode)\n",
    "    correlation_signal = normalized_cross_correlation(corr_1, corr_2, correl_mode)"
   ]
  },
  {
   "cell_type": "markdown",
   "metadata": {},
   "source": [
    "## Compute wavelength\n",
    "\n",
    "Modified attributes:\n",
    "- None"
   ]
  },
  {
   "cell_type": "code",
   "execution_count": null,
   "metadata": {},
   "outputs": [],
   "source": [
    "if True:\n",
    "    wavelength = self.compute_wavelength(correlation_signal)\n",
    "else:\n",
    "    min_wavelength = wavelength_offshore(\n",
    "        self.global_estimator.waves_period_min,\n",
    "        self.gravity,\n",
    "    )\n",
    "    min_period_unitless = int(min_wavelength / self.augmented_resolution)\n",
    "    try:\n",
    "        period, _ = find_period_from_zeros(correlation_signal, min_period_unitless)\n",
    "        wavelength = period * self.augmented_resolution\n",
    "    except ValueError as excp:\n",
    "        raise NotExploitableSinogram('Wave length can not be computed from sinogram') from excp"
   ]
  },
  {
   "cell_type": "markdown",
   "metadata": {},
   "source": [
    "## Compute delta position\n",
    "\n",
    "Modified attributes:\n",
    "- None"
   ]
  },
  {
   "cell_type": "code",
   "execution_count": null,
   "metadata": {},
   "outputs": [],
   "source": [
    "if True:\n",
    "    delta_position = self.compute_delta_position(correlation_signal, wavelength)\n",
    "else:\n",
    "    peaks_pos, _ = find_peaks(correlation_signal)\n",
    "    if peaks_pos.size == 0:\n",
    "        raise WavesEstimationError('Unable to find any directional peak')\n",
    "    argmax_ac = len(correlation_signal) // 2\n",
    "    relative_distance = (peaks_pos - argmax_ac) * self.augmented_resolution\n",
    "\n",
    "    celerity_offshore_max = celerity_offshore(\n",
    "        self.global_estimator.waves_period_max,\n",
    "        self.gravity,\n",
    "    )\n",
    "    spatial_shift_offshore_max = celerity_offshore_max * self.propagation_duration\n",
    "    spatial_shift_min = min(-spatial_shift_offshore_max, spatial_shift_offshore_max)\n",
    "    spatial_shift_max = -spatial_shift_min\n",
    "\n",
    "    stroboscopic_factor_offshore = self.propagation_duration / period_offshore(\n",
    "        1 / wavelength, self.gravity)\n",
    "    \n",
    "    if abs(stroboscopic_factor_offshore) >= 1:\n",
    "        # unused for s2\n",
    "        print('test stroboscopie vrai')\n",
    "        spatial_shift_offshore_max = (\n",
    "            self.local_estimator_params['PEAK_POSITION_MAX_FACTOR']\n",
    "            * stroboscopic_factor_offshore\n",
    "            * wavelength\n",
    "        )\n",
    "\n",
    "    pt_in_range = peaks_pos[np.where(\n",
    "        (relative_distance >= spatial_shift_min)\n",
    "        & (relative_distance < spatial_shift_max)\n",
    "    )]\n",
    "    if pt_in_range.size == 0:\n",
    "        raise WavesEstimationError('Unable to find any directional peak')\n",
    "    argmax = pt_in_range[correlation_signal[pt_in_range].argmax()]\n",
    "    delta_position = (argmax - argmax_ac) * self.augmented_resolution\n"
   ]
  },
  {
   "cell_type": "markdown",
   "metadata": {},
   "source": [
    "## Save wave field estimation\n",
    "\n",
    "New elements:\n",
    "- local_estimator.bathymetry_estimations"
   ]
  },
  {
   "cell_type": "code",
   "execution_count": null,
   "metadata": {},
   "outputs": [],
   "source": [
    "if True:\n",
    "    self.save_wave_field_estimation(estimated_direction, wavelength, delta_position)\n",
    "else:\n",
    "    bathymetry_estimation = cast(\n",
    "        SpatialCorrelationBathyEstimation,\n",
    "        self.create_bathymetry_estimation(estimated_direction, wavelength),\n",
    "    )\n",
    "    bathymetry_estimation.delta_position = delta_position\n",
    "    self.bathymetry_estimations.append(bathymetry_estimation)\n"
   ]
  },
  {
   "cell_type": "code",
   "execution_count": null,
   "metadata": {},
   "outputs": [],
   "source": [
    "self.bathymetry_estimations[0].is_physical()"
   ]
  },
  {
   "cell_type": "code",
   "execution_count": null,
   "metadata": {},
   "outputs": [],
   "source": [
    "dataset = build_dataset(\n",
    "    bathy_estimator,\n",
    "    ortho_bathy_estimator,\n",
    "    self,\n",
    ")\n",
    "dataset"
   ]
  },
  {
   "cell_type": "markdown",
   "metadata": {},
   "source": [
    "## TODO\n",
    "\n",
    "- Créer une fonction pour les premières étapes ✅\n",
    "- Documenter les modifications des attributs d'instance de chaque méthode du run ✅\n",
    "- Eclater la cellule de run ✅\n",
    "- rentrer dans chaque étape ✅\n",
    "- flag _DEFAULT pour chaque étape ou custom function ✅\n",
    "- faire la même chose pour les 3 méthodes\n",
    "\n",
    "\n",
    "\n",
    "Option: Configuration pydantic ✅"
   ]
  }
 ],
 "metadata": {
  "kernelspec": {
   "display_name": "s2shores_env",
   "language": "python",
   "name": "python3"
  },
  "language_info": {
   "codemirror_mode": {
    "name": "ipython",
    "version": 3
   },
   "file_extension": ".py",
   "mimetype": "text/x-python",
   "name": "python",
   "nbconvert_exporter": "python",
   "pygments_lexer": "ipython3",
   "version": "3.12.9"
  }
 },
 "nbformat": 4,
 "nbformat_minor": 2
}
