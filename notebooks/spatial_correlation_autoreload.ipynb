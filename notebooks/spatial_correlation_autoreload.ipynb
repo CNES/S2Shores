{
 "cells": [
  {
   "cell_type": "code",
   "execution_count": null,
   "metadata": {},
   "outputs": [],
   "source": [
    "%load_ext autoreload\n",
    "%autoreload 2"
   ]
  },
  {
   "cell_type": "code",
   "execution_count": null,
   "metadata": {
    "tags": []
   },
   "outputs": [],
   "source": [
    "from pathlib import Path\n",
    "from typing import Literal\n",
    "from shapely.geometry import Point\n",
    "\n",
    "from s2shores.bathy_debug.spatial_correlation_bathy_estimator_debug import SpatialCorrelationBathyEstimatorDebug\n",
    "from s2shores.waves_exceptions import WavesEstimationError\n",
    "\n",
    "from utils import initialize_sequential_run, build_dataset"
   ]
  },
  {
   "cell_type": "code",
   "execution_count": null,
   "metadata": {},
   "outputs": [],
   "source": [
    "base_path = Path(\"/work/LITTORAL/MPData-Notebooks\").resolve()\n",
    "test_case: Literal[\"7_4\", \"8_2\"] = \"8_2\"\n",
    "method: Literal[\"spatial_corr\", \"spatial_dft\", \"temporal_corr\"] = \"spatial_corr\"\n",
    "\n",
    "product_path: Path = base_path / \"products\" / f\"SWASH_{test_case}/testcase_{test_case}.tif\"\n",
    "config_path: Path = base_path / f\"reference_results/debug_pointswash_{method}/wave_bathy_inversion_config.yaml\"\n",
    "debug_file: Path = base_path / f\"debug_points/debug_points_SWASH_{test_case}.yaml\"\n",
    "\n",
    "estimation_point = Point(451.0, 499.0)"
   ]
  },
  {
   "cell_type": "code",
   "execution_count": null,
   "metadata": {},
   "outputs": [],
   "source": [
    "bathy_estimator, ortho_bathy_estimator, ortho_sequence, config = initialize_sequential_run(\n",
    "    product_path=product_path,\n",
    "    config_path=config_path,\n",
    "    point=estimation_point,\n",
    ")"
   ]
  },
  {
   "cell_type": "markdown",
   "metadata": {},
   "source": [
    "If you want to change any parameter of the configuration, modify the values of the object `config` as you would with a dict.  \n",
    "\n",
    "Example:\n",
    "```python\n",
    "config[\"parameter\"] = \"new_value\"\n",
    "```"
   ]
  },
  {
   "cell_type": "code",
   "execution_count": null,
   "metadata": {},
   "outputs": [],
   "source": [
    "self = SpatialCorrelationBathyEstimatorDebug(\n",
    "    estimation_point,\n",
    "    ortho_sequence,\n",
    "    bathy_estimator,\n",
    ")\n",
    "\n",
    "if not self.can_estimate_bathy():\n",
    "    raise WavesEstimationError(\"Cannot estimate bathy.\")"
   ]
  },
  {
   "cell_type": "markdown",
   "metadata": {},
   "source": [
    "## Preprocess images\n",
    "\n",
    "Modified attributes:\n",
    "- local_estimator.ortho_sequence.\\<elements\\>.pixels"
   ]
  },
  {
   "cell_type": "code",
   "execution_count": null,
   "metadata": {},
   "outputs": [],
   "source": [
    "self.preprocess_images()"
   ]
  },
  {
   "cell_type": "markdown",
   "metadata": {},
   "source": [
    "## Find direction\n",
    "\n",
    "Modified attributes:\n",
    "- None\n",
    "\n",
    "New variables:\n",
    "- estimated_direction"
   ]
  },
  {
   "cell_type": "code",
   "execution_count": null,
   "metadata": {},
   "outputs": [],
   "source": [
    "estimated_direction = self.find_direction()"
   ]
  },
  {
   "cell_type": "markdown",
   "metadata": {},
   "source": [
    "## Compute radon transforms\n",
    "\n",
    "New elements:\n",
    "- local_estimator.randon_transforms"
   ]
  },
  {
   "cell_type": "code",
   "execution_count": null,
   "metadata": {},
   "outputs": [],
   "source": [
    "self.compute_radon_transforms(estimated_direction)"
   ]
  },
  {
   "cell_type": "markdown",
   "metadata": {},
   "source": [
    "## Compute spatial correlation\n",
    "\n",
    "New elements:\n",
    "- local_estimator.sinograms\n",
    "\n",
    "New variables:\n",
    "- correlation_signal"
   ]
  },
  {
   "cell_type": "code",
   "execution_count": null,
   "metadata": {},
   "outputs": [],
   "source": [
    "correlation_signal = self.compute_spatial_correlation(estimated_direction)"
   ]
  },
  {
   "cell_type": "markdown",
   "metadata": {},
   "source": [
    "## Compute wavelength\n",
    "\n",
    "Modified attributes:\n",
    "- None\n",
    "\n",
    "New variables:\n",
    "- wavelength"
   ]
  },
  {
   "cell_type": "code",
   "execution_count": null,
   "metadata": {},
   "outputs": [],
   "source": [
    "config[\"GLOBAL_ESTIMATOR\"][\"MIN_T\"] = 5\n",
    "# config[\"GLOBAL_ESTIMATOR\"][\"MIN_T\"] = 10"
   ]
  },
  {
   "cell_type": "code",
   "execution_count": null,
   "metadata": {},
   "outputs": [],
   "source": [
    "wavelength = self.compute_wavelength(correlation_signal)\n",
    "wavelength"
   ]
  },
  {
   "cell_type": "markdown",
   "metadata": {},
   "source": [
    "## Compute delta position\n",
    "\n",
    "Modified attributes:\n",
    "- None\n",
    "\n",
    "New variables:\n",
    "- delta_position"
   ]
  },
  {
   "cell_type": "code",
   "execution_count": null,
   "metadata": {},
   "outputs": [],
   "source": [
    "delta_position = self.compute_delta_position(correlation_signal, wavelength)"
   ]
  },
  {
   "cell_type": "markdown",
   "metadata": {},
   "source": [
    "## Save wave field estimation\n",
    "\n",
    "New elements:\n",
    "- local_estimator.bathymetry_estimations"
   ]
  },
  {
   "cell_type": "code",
   "execution_count": null,
   "metadata": {},
   "outputs": [],
   "source": [
    "self.save_wave_field_estimation(estimated_direction, wavelength, delta_position)"
   ]
  },
  {
   "cell_type": "code",
   "execution_count": null,
   "metadata": {},
   "outputs": [],
   "source": [
    "self.bathymetry_estimations[0].is_physical()"
   ]
  },
  {
   "cell_type": "code",
   "execution_count": null,
   "metadata": {},
   "outputs": [],
   "source": [
    "dataset = build_dataset(\n",
    "    bathy_estimator,\n",
    "    ortho_bathy_estimator,\n",
    "    self,\n",
    ")\n",
    "dataset"
   ]
  },
  {
   "cell_type": "markdown",
   "metadata": {},
   "source": [
    "## TODO\n",
    "\n",
    "- Créer une fonction pour les premières étapes ✅\n",
    "- Documenter les modifications des attributs d'instance de chaque méthode du run ✅\n",
    "- Eclater la cellule de run ✅\n",
    "- rentrer dans chaque étape ✅\n",
    "- flag _DEFAULT pour chaque étape ou custom function ✅\n",
    "- faire la même chose pour les 3 méthodes\n",
    "- vérifier la VT ✅\n",
    "- vérifier l'exécution sur JupyterHub\n",
    "\n",
    "\n",
    "Option: Configuration pydantic ✅"
   ]
  }
 ],
 "metadata": {
  "kernelspec": {
   "display_name": "s2shores_env",
   "language": "python",
   "name": "python3"
  },
  "language_info": {
   "codemirror_mode": {
    "name": "ipython",
    "version": 3
   },
   "file_extension": ".py",
   "mimetype": "text/x-python",
   "name": "python",
   "nbconvert_exporter": "python",
   "pygments_lexer": "ipython3",
   "version": "3.12.9"
  }
 },
 "nbformat": 4,
 "nbformat_minor": 4
}
