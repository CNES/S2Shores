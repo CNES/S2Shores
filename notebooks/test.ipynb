{
 "cells": [
  {
   "cell_type": "code",
   "execution_count": null,
   "metadata": {},
   "outputs": [],
   "source": [
    "%load_ext autoreload\n",
    "%autoreload 2"
   ]
  },
  {
   "cell_type": "code",
   "execution_count": null,
   "metadata": {},
   "outputs": [],
   "source": [
    "import subprocess\n",
    "\n",
    "from pathlib import Path\n",
    "from typing import Literal"
   ]
  },
  {
   "cell_type": "code",
   "execution_count": null,
   "metadata": {},
   "outputs": [],
   "source": [
    "test_case: Literal[\"7_4\", \"8_2\"] = \"8_2\"\n",
    "method: Literal[\"spatial_corr\", \"spatial_dft\", \"temporal_corr\"] = \"spatial_dft\"\n",
    "\n",
    "\n",
    "base_path = Path(\"/home/geoffrey/Projets-Linux/CNES/s2shores/TestsS2Shores\")\n",
    "input_path = base_path / \"products\" / f\"SWASH_{test_case}/testcase_{test_case}.tif\"\n",
    "\n",
    "config_path = base_path / f\"reference_results/debug_pointswash_{method}/wave_bathy_inversion_config.yaml\"\n",
    "debug_points_path = base_path / f\"debug_points/debug_points_SWASH_{test_case}.yaml\"\n",
    "\n",
    "output_path = base_path / f\"output/{method}_SWASH_{test_case}\"\n",
    "\n",
    "output_path.mkdir(parents=True, exist_ok=True)\n",
    "\n",
    "args = [\n",
    "    \"s2shores\",\n",
    "    \"--input_product\",\n",
    "    str(input_path),\n",
    "    \"--product_type\",\n",
    "    \"geotiff\",\n",
    "    \"--output_dir\",\n",
    "    str(output_path),\n",
    "    \"--config_file\",\n",
    "    str(config_path),\n",
    "    \"--debug_file\",\n",
    "    str(debug_points_path),\n",
    "]\n",
    "\n",
    "subprocess.run(args=args)"
   ]
  },
  {
   "cell_type": "code",
   "execution_count": null,
   "metadata": {},
   "outputs": [],
   "source": [
    "import netCDF4\n",
    "\n",
    "reference_results = netCDF4.Dataset(base_path / \"reference_results/debug_pointswash_spatial_dft/simulation_20000101T000000.nc\")\n",
    "display(reference_results[\"Depth\"][0, 0, :])\n",
    "display(reference_results[\"Wavelength\"][0, 0, :])"
   ]
  },
  {
   "cell_type": "code",
   "execution_count": null,
   "metadata": {},
   "outputs": [],
   "source": [
    "output = netCDF4.Dataset(output_path / \"run_2025_04_08_11-48-17/simulation_20000101T000000.nc\")\n",
    "output.variables.keys()"
   ]
  },
  {
   "cell_type": "code",
   "execution_count": null,
   "metadata": {},
   "outputs": [],
   "source": [
    "output[\"Depth\"][0, 0, :]"
   ]
  },
  {
   "cell_type": "code",
   "execution_count": null,
   "metadata": {},
   "outputs": [],
   "source": [
    "output[\"Wavelength\"][0, 0, :]"
   ]
  },
  {
   "cell_type": "markdown",
   "metadata": {},
   "source": [
    "## Breakdown of the workflow\n",
    "\n",
    "### Fonctionnement normal\n",
    "\n",
    "BathyLauncher#launch :\n",
    "    BathyLauncher#add_product : créer l'objet product et le BathyEstimator\n",
    "    BathyEstimator#set_gravity_provider\n",
    "    BathyEstimator#set_distoshore_provider\n",
    "    BathyEstimator#set_delta_time_provider\n",
    "    BathyEstimator#set_roi_provider\n",
    "    BathyEstimator#create_subtiles : créer les subtiles\n",
    "    BathyEstimator#set_debug_samples\n",
    "    BathyEstimator#set_debug_area\n",
    "    BathyLauncher#run : lance les compute de toutes les subtiles des estimators\n",
    "        BathyEstimator#compute_bathy_for_subtile : création d'un OrthoBathyEstimator par subtile\n",
    "\n",
    "### Questions\n",
    "\n",
    "Q: Quand est-ce qu'il y a plusieurs products ? `bathy_processing` n'en crée qu'un seul.  \n",
    "R: \n",
    "\n",
    "\n",
    "Q: Quelle est la différence entre BathyEstimator/OrthoBathyEstimator/LocalBathyEstimator ?\n",
    "R: \n",
    "\n"
   ]
  },
  {
   "cell_type": "markdown",
   "metadata": {},
   "source": []
  }
 ],
 "metadata": {
  "kernelspec": {
   "display_name": "s2shores_env",
   "language": "python",
   "name": "python3"
  },
  "language_info": {
   "codemirror_mode": {
    "name": "ipython",
    "version": 3
   },
   "file_extension": ".py",
   "mimetype": "text/x-python",
   "name": "python",
   "nbconvert_exporter": "python",
   "pygments_lexer": "ipython3",
   "version": "3.12.9"
  }
 },
 "nbformat": 4,
 "nbformat_minor": 2
}
