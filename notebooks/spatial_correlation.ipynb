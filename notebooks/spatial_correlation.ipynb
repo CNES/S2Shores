{
 "cells": [
  {
   "cell_type": "code",
   "execution_count": null,
   "metadata": {},
   "outputs": [],
   "source": [
    "from pathlib import Path\n",
    "from typing import Literal, cast\n",
    "\n",
    "from shapely.geometry import Point\n",
    "from scipy.signal import find_peaks\n",
    "import numpy as np\n",
    "\n",
    "from s2shores.bathy_debug.spatial_correlation_bathy_estimator_debug import SpatialCorrelationBathyEstimatorDebug\n",
    "from s2shores.local_bathymetry.spatial_correlation_bathy_estimation import SpatialCorrelationBathyEstimation\n",
    "from s2shores.waves_exceptions import WavesEstimationError, NotExploitableSinogram\n",
    "from s2shores.image_processing.waves_radon import WavesRadon\n",
    "from s2shores.generic_utils.image_utils import normalized_cross_correlation\n",
    "from s2shores.generic_utils.signal_utils import find_period_from_zeros\n",
    "from s2shores.bathy_physics import celerity_offshore, period_offshore, wavelength_offshore\n",
    "\n",
    "from utils import initialize_sequential_run, build_dataset"
   ]
  },
  {
   "cell_type": "code",
   "execution_count": null,
   "metadata": {},
   "outputs": [],
   "source": [
    "base_path = Path(\"../TestsS2Shores\").resolve()\n",
    "test_case: Literal[\"7_4\", \"8_2\"] = \"8_2\"\n",
    "method: Literal[\"spatial_corr\", \"spatial_dft\", \"temporal_corr\"] = \"spatial_corr\"\n",
    "\n",
    "product_path: Path = base_path / \"products\" / f\"SWASH_{test_case}/testcase_{test_case}.tif\"\n",
    "config_path: Path = base_path / f\"reference_results/debug_pointswash_{method}/wave_bathy_inversion_config.yaml\"\n",
    "debug_file: Path = base_path / f\"debug_points/debug_points_SWASH_{test_case}.yaml\"\n",
    "\n",
    "estimation_point = Point(451.0, 499.0)"
   ]
  },
  {
   "cell_type": "code",
   "execution_count": null,
   "metadata": {},
   "outputs": [],
   "source": [
    "bathy_estimator, ortho_bathy_estimator, ortho_sequence, config = initialize_sequential_run(\n",
    "    product_path=product_path,\n",
    "    config_path=config_path,\n",
    "    point=estimation_point,\n",
    ")"
   ]
  },
  {
   "cell_type": "markdown",
   "metadata": {},
   "source": [
    "If you want to change any parameter of the configuration, modify the values of the object `config` as you would with a dict.  \n",
    "\n",
    "Example:\n",
    "```python\n",
    "config[\"parameter\"] = \"new_value\"\n",
    "```"
   ]
  },
  {
   "cell_type": "code",
   "execution_count": null,
   "metadata": {},
   "outputs": [],
   "source": [
    "local_estimator = SpatialCorrelationBathyEstimatorDebug(\n",
    "    estimation_point,\n",
    "    ortho_sequence,\n",
    "    bathy_estimator,\n",
    ")\n",
    "\n",
    "if not local_estimator.can_estimate_bathy():\n",
    "    raise WavesEstimationError(\"Cannot estimate bathy.\")"
   ]
  },
  {
   "cell_type": "markdown",
   "metadata": {},
   "source": [
    "## Preprocess images\n",
    "\n",
    "Modified attributes:\n",
    "- local_estimator.ortho_sequence.\\<elements\\>"
   ]
  },
  {
   "cell_type": "code",
   "execution_count": null,
   "metadata": {},
   "outputs": [],
   "source": [
    "if True:\n",
    "    for image in local_estimator.ortho_sequence:\n",
    "        filtered_image = image.apply_filters(local_estimator.preprocessing_filters)\n",
    "        image.pixels = filtered_image.pixels\n",
    "else:\n",
    "    # Write your custom code here.\n",
    "    ...\n"
   ]
  },
  {
   "cell_type": "markdown",
   "metadata": {},
   "source": [
    "## Find direction\n",
    "\n",
    "Modified attributes:\n",
    "- None"
   ]
  },
  {
   "cell_type": "code",
   "execution_count": null,
   "metadata": {},
   "outputs": [],
   "source": [
    "if True:\n",
    "    tmp_wavesradon = WavesRadon(\n",
    "        local_estimator.ortho_sequence[0],\n",
    "        local_estimator.selected_directions,\n",
    "    )\n",
    "    estimated_direction, _ = tmp_wavesradon.get_direction_maximum_variance()\n",
    "else:\n",
    "    # Write your custom code here.\n",
    "    ...\n"
   ]
  },
  {
   "cell_type": "markdown",
   "metadata": {},
   "source": [
    "## Compute radon transforms\n",
    "\n",
    "New elements:\n",
    "- local_estimator.randon_transforms"
   ]
  },
  {
   "cell_type": "code",
   "execution_count": null,
   "metadata": {},
   "outputs": [],
   "source": [
    "if True:\n",
    "    for image in local_estimator.ortho_sequence:\n",
    "        radon_transform = WavesRadon(image, np.array([estimated_direction]))\n",
    "        radon_transform_augmented = radon_transform.radon_augmentation(\n",
    "            local_estimator.radon_augmentation_factor)\n",
    "        local_estimator.radon_transforms.append(radon_transform_augmented)\n",
    "else:\n",
    "    # Write your custom code here.\n",
    "    ...\n"
   ]
  },
  {
   "cell_type": "markdown",
   "metadata": {},
   "source": [
    "## Compute spatial correlation\n",
    "\n",
    "New elements:\n",
    "- local_estimator.sinograms"
   ]
  },
  {
   "cell_type": "code",
   "execution_count": null,
   "metadata": {},
   "outputs": [],
   "source": [
    "if True:\n",
    "    for radon_transform in local_estimator.radon_transforms:\n",
    "        tmp_wavessinogram = radon_transform[estimated_direction]\n",
    "        tmp_wavessinogram.values *= tmp_wavessinogram.variance\n",
    "        local_estimator.sinograms.append(tmp_wavessinogram)\n",
    "    sinogram_1 = local_estimator.sinograms[0].values\n",
    "    # TODO: should be independent from 0/1 (for multiple pairs of frames)\n",
    "    sinogram_2 = local_estimator.sinograms[1].values\n",
    "    correl_mode = local_estimator.local_estimator_params['CORRELATION_MODE']\n",
    "    corr_init = normalized_cross_correlation(sinogram_1, sinogram_2, correl_mode)\n",
    "    corr_init_ac = normalized_cross_correlation(corr_init, corr_init, correl_mode)\n",
    "    corr_1 = normalized_cross_correlation(corr_init_ac, sinogram_1, correl_mode)\n",
    "    corr_2 = normalized_cross_correlation(corr_init_ac, sinogram_2, correl_mode)\n",
    "    correlation_signal = normalized_cross_correlation(corr_1, corr_2, correl_mode)\n",
    "else:\n",
    "    # Write your custom code here.\n",
    "    ...\n"
   ]
  },
  {
   "cell_type": "markdown",
   "metadata": {},
   "source": [
    "## Compute wavelength\n",
    "\n",
    "Modified attributes:\n",
    "- None"
   ]
  },
  {
   "cell_type": "code",
   "execution_count": null,
   "metadata": {},
   "outputs": [],
   "source": [
    "if True:\n",
    "    min_wavelength = wavelength_offshore(\n",
    "        local_estimator.global_estimator.waves_period_min,\n",
    "        local_estimator.gravity,\n",
    "    )\n",
    "    min_period_unitless = int(min_wavelength / local_estimator.augmented_resolution)\n",
    "    try:\n",
    "        period, _ = find_period_from_zeros(correlation_signal, min_period_unitless)\n",
    "        wavelength = period * local_estimator.augmented_resolution\n",
    "    except ValueError as excp:\n",
    "        raise NotExploitableSinogram('Wave length can not be computed from sinogram') from excp\n",
    "else:\n",
    "    # Write your custom code here.\n",
    "    ...\n"
   ]
  },
  {
   "cell_type": "markdown",
   "metadata": {},
   "source": [
    "## Compute delta position\n",
    "\n",
    "Modified attributes:\n",
    "- None"
   ]
  },
  {
   "cell_type": "code",
   "execution_count": null,
   "metadata": {},
   "outputs": [],
   "source": [
    "if True:\n",
    "    peaks_pos, _ = find_peaks(correlation_signal)\n",
    "    if peaks_pos.size == 0:\n",
    "        raise WavesEstimationError('Unable to find any directional peak')\n",
    "    argmax_ac = len(correlation_signal) // 2\n",
    "    relative_distance = (peaks_pos - argmax_ac) * local_estimator.augmented_resolution\n",
    "\n",
    "    celerity_offshore_max = celerity_offshore(\n",
    "        local_estimator.global_estimator.waves_period_max,\n",
    "        local_estimator.gravity,\n",
    "    )\n",
    "    spatial_shift_offshore_max = celerity_offshore_max * local_estimator.propagation_duration\n",
    "    spatial_shift_min = min(-spatial_shift_offshore_max, spatial_shift_offshore_max)\n",
    "    spatial_shift_max = -spatial_shift_min\n",
    "\n",
    "    stroboscopic_factor_offshore = local_estimator.propagation_duration / period_offshore(\n",
    "        1 / wavelength, local_estimator.gravity)\n",
    "    \n",
    "    if abs(stroboscopic_factor_offshore) >= 1:\n",
    "        # unused for s2\n",
    "        print('test stroboscopie vrai')\n",
    "        spatial_shift_offshore_max = (\n",
    "            local_estimator.local_estimator_params['PEAK_POSITION_MAX_FACTOR']\n",
    "            * stroboscopic_factor_offshore\n",
    "            * wavelength\n",
    "        )\n",
    "\n",
    "    pt_in_range = peaks_pos[np.where(\n",
    "        (relative_distance >= spatial_shift_min)\n",
    "        & (relative_distance < spatial_shift_max)\n",
    "    )]\n",
    "    if pt_in_range.size == 0:\n",
    "        raise WavesEstimationError('Unable to find any directional peak')\n",
    "    argmax = pt_in_range[correlation_signal[pt_in_range].argmax()]\n",
    "    delta_position = (argmax - argmax_ac) * local_estimator.augmented_resolution\n",
    "else:\n",
    "    # Write your custom code here.\n",
    "    ...\n"
   ]
  },
  {
   "cell_type": "markdown",
   "metadata": {},
   "source": [
    "## Save wave field estimation\n",
    "\n",
    "New elements:\n",
    "- local_estimator.bathymetry_estimations"
   ]
  },
  {
   "cell_type": "code",
   "execution_count": null,
   "metadata": {},
   "outputs": [],
   "source": [
    "if True:\n",
    "    bathymetry_estimation = cast(\n",
    "        SpatialCorrelationBathyEstimation,\n",
    "        local_estimator.create_bathymetry_estimation(estimated_direction, wavelength),\n",
    "    )\n",
    "    bathymetry_estimation.delta_position = delta_position\n",
    "    local_estimator.bathymetry_estimations.append(bathymetry_estimation)\n",
    "else:\n",
    "    # Write your custom code here.\n",
    "    ...\n"
   ]
  },
  {
   "cell_type": "code",
   "execution_count": null,
   "metadata": {},
   "outputs": [],
   "source": [
    "local_estimator.bathymetry_estimations[0].is_physical()"
   ]
  },
  {
   "cell_type": "code",
   "execution_count": null,
   "metadata": {},
   "outputs": [],
   "source": [
    "dataset = build_dataset(\n",
    "    bathy_estimator,\n",
    "    ortho_bathy_estimator,\n",
    "    local_estimator,\n",
    ")\n",
    "dataset"
   ]
  },
  {
   "cell_type": "markdown",
   "metadata": {},
   "source": [
    "## TODO\n",
    "\n",
    "- Créer une fonction pour les premières étapes ✅\n",
    "- Documenter les modifications des attributs d'instance de chaque méthode du run\n",
    "- Eclater la cellule de run ✅\n",
    "- rentrer dans chaque étape ✅\n",
    "- flag _DEFAULT pour chaque étape ou custom function ✅\n",
    "- faire la même chose pour les 3 méthodes\n",
    "\n",
    "\n",
    "\n",
    "Option: Configuration pydantic"
   ]
  },
  {
   "cell_type": "code",
   "execution_count": null,
   "metadata": {},
   "outputs": [],
   "source": []
  }
 ],
 "metadata": {
  "kernelspec": {
   "display_name": "s2shores_env",
   "language": "python",
   "name": "python3"
  },
  "language_info": {
   "codemirror_mode": {
    "name": "ipython",
    "version": 3
   },
   "file_extension": ".py",
   "mimetype": "text/x-python",
   "name": "python",
   "nbconvert_exporter": "python",
   "pygments_lexer": "ipython3",
   "version": "3.12.9"
  }
 },
 "nbformat": 4,
 "nbformat_minor": 2
}
