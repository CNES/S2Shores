{
 "cells": [
  {
   "cell_type": "code",
   "execution_count": null,
   "metadata": {
    "tags": []
   },
   "outputs": [],
   "source": [
    "from pathlib import Path\n",
    "from typing import Literal, cast\n",
    "\n",
    "from matplotlib import pyplot as plt\n",
    "from shapely.geometry import Point\n",
    "from scipy.signal import find_peaks\n",
    "import numpy as np\n",
    "\n",
    "from s2shores.bathy_debug.spatial_correlation_bathy_estimator_debug import SpatialCorrelationBathyEstimatorDebug\n",
    "from s2shores.local_bathymetry.spatial_correlation_bathy_estimation import SpatialCorrelationBathyEstimation\n",
    "from s2shores.waves_exceptions import WavesEstimationError, NotExploitableSinogram\n",
    "from s2shores.image_processing.waves_radon import WavesRadon\n",
    "from s2shores.generic_utils.image_utils import normalized_cross_correlation\n",
    "from s2shores.generic_utils.signal_utils import find_period_from_zeros\n",
    "from s2shores.bathy_physics import celerity_offshore, period_offshore, wavelength_offshore\n",
    "from s2shores.bathy_debug.spatial_correlation_wave_fields_display import (\n",
    "    build_sinograms_1D_analysis_spatial_correlation,\n",
    "    build_sinograms_spatial_correlation,\n",
    "    build_waves_images_spatial_correl,\n",
    ")\n",
    "\n",
    "from utils import initialize_sequential_run, build_dataset"
   ]
  },
  {
   "cell_type": "code",
   "execution_count": null,
   "metadata": {},
   "outputs": [],
   "source": [
    "base_path = Path(\"/work/LITTORAL/MPData-Notebooks\").resolve()\n",
    "test_case: Literal[\"7_4\", \"8_2\"] = \"8_2\"\n",
    "method: Literal[\"spatial_corr\", \"spatial_dft\", \"temporal_corr\"] = \"spatial_corr\"\n",
    "\n",
    "product_path: Path = base_path / \"products\" / f\"SWASH_{test_case}/testcase_{test_case}.tif\"\n",
    "config_path: Path = base_path / f\"reference_results/debug_pointswash_{method}/wave_bathy_inversion_config.yaml\"\n",
    "debug_file: Path = base_path / f\"debug_points/debug_points_SWASH_{test_case}.yaml\"\n",
    "\n",
    "estimation_point = Point(451.0, 499.0)"
   ]
  },
  {
   "cell_type": "code",
   "execution_count": null,
   "metadata": {},
   "outputs": [],
   "source": [
    "bathy_estimator, ortho_bathy_estimator, ortho_sequence, config = initialize_sequential_run(\n",
    "    product_path=product_path,\n",
    "    config_path=config_path,\n",
    "    point=estimation_point,\n",
    ")"
   ]
  },
  {
   "cell_type": "markdown",
   "metadata": {},
   "source": [
    "If you want to change any parameter of the configuration, modify the values of the object `config` as you would with a dict.  \n",
    "\n",
    "Example:\n",
    "```python\n",
    "config[\"parameter\"] = \"new_value\"\n",
    "```"
   ]
  },
  {
   "cell_type": "code",
   "execution_count": null,
   "metadata": {},
   "outputs": [],
   "source": [
    "self = SpatialCorrelationBathyEstimatorDebug(\n",
    "    estimation_point,\n",
    "    ortho_sequence,\n",
    "    bathy_estimator,\n",
    ")\n",
    "\n",
    "if not self.can_estimate_bathy():\n",
    "    raise WavesEstimationError(\"Cannot estimate bathy.\")"
   ]
  },
  {
   "cell_type": "markdown",
   "metadata": {},
   "source": [
    "## Preprocess images\n",
    "\n",
    "Modified attributes:\n",
    "- local_estimator.ortho_sequence.\\<elements\\>.pixels"
   ]
  },
  {
   "cell_type": "code",
   "execution_count": null,
   "metadata": {},
   "outputs": [],
   "source": [
    "if True:\n",
    "    self.preprocess_images()\n",
    "else:\n",
    "    for image in self.ortho_sequence:\n",
    "        filtered_image = image.apply_filters(self.preprocessing_filters)\n",
    "        image.pixels = filtered_image.pixels"
   ]
  },
  {
   "cell_type": "markdown",
   "metadata": {},
   "source": [
    "## Find direction\n",
    "\n",
    "Modified attributes:\n",
    "- None\n",
    "\n",
    "New variables:\n",
    "- estimated_direction"
   ]
  },
  {
   "cell_type": "code",
   "execution_count": null,
   "metadata": {},
   "outputs": [],
   "source": [
    "if True:\n",
    "    estimated_direction = self.find_direction()\n",
    "else:\n",
    "    tmp_wavesradon = WavesRadon(\n",
    "        self.ortho_sequence[0],\n",
    "        self.selected_directions,\n",
    "    )\n",
    "    estimated_direction, _ = tmp_wavesradon.get_direction_maximum_variance()"
   ]
  },
  {
   "cell_type": "markdown",
   "metadata": {},
   "source": [
    "## Compute radon transforms\n",
    "\n",
    "New elements:\n",
    "- local_estimator.randon_transforms"
   ]
  },
  {
   "cell_type": "code",
   "execution_count": null,
   "metadata": {},
   "outputs": [],
   "source": [
    "if True:\n",
    "    self.compute_radon_transforms(estimated_direction)\n",
    "else:\n",
    "    for image in self.ortho_sequence:\n",
    "        radon_transform = WavesRadon(image, np.array([estimated_direction]))\n",
    "        radon_transform_augmented = radon_transform.radon_augmentation(\n",
    "            self.radon_augmentation_factor)\n",
    "        self.radon_transforms.append(radon_transform_augmented)"
   ]
  },
  {
   "cell_type": "markdown",
   "metadata": {},
   "source": [
    "## Compute spatial correlation\n",
    "\n",
    "New elements:\n",
    "- local_estimator.sinograms\n",
    "\n",
    "New variables:\n",
    "- correlation_signal"
   ]
  },
  {
   "cell_type": "code",
   "execution_count": null,
   "metadata": {},
   "outputs": [],
   "source": [
    "if True:\n",
    "    correlation_signal = self.compute_spatial_correlation(estimated_direction)\n",
    "else:\n",
    "    for radon_transform in self.radon_transforms:\n",
    "        tmp_wavessinogram = radon_transform[estimated_direction]\n",
    "        tmp_wavessinogram.values *= tmp_wavessinogram.variance\n",
    "        self.sinograms.append(tmp_wavessinogram)\n",
    "    sinogram_1 = self.sinograms[0].values\n",
    "    # TODO: should be independent from 0/1 (for multiple pairs of frames)\n",
    "    sinogram_2 = self.sinograms[1].values\n",
    "    correl_mode = self.local_estimator_params['CORRELATION_MODE']\n",
    "    corr_init = normalized_cross_correlation(sinogram_1, sinogram_2, correl_mode)\n",
    "    corr_init_ac = normalized_cross_correlation(corr_init, corr_init, correl_mode)\n",
    "    corr_1 = normalized_cross_correlation(corr_init_ac, sinogram_1, correl_mode)\n",
    "    corr_2 = normalized_cross_correlation(corr_init_ac, sinogram_2, correl_mode)\n",
    "    correlation_signal = normalized_cross_correlation(corr_1, corr_2, correl_mode)"
   ]
  },
  {
   "cell_type": "markdown",
   "metadata": {},
   "source": [
    "## Compute wavelength\n",
    "\n",
    "Modified attributes:\n",
    "- None\n",
    "\n",
    "New variables:\n",
    "- wavelength"
   ]
  },
  {
   "cell_type": "code",
   "execution_count": null,
   "metadata": {},
   "outputs": [],
   "source": [
    "if True:\n",
    "    wavelength = self.compute_wavelength(correlation_signal)\n",
    "else:\n",
    "    min_wavelength = wavelength_offshore(\n",
    "        self.global_estimator.waves_period_min,\n",
    "        self.gravity,\n",
    "    )\n",
    "    min_period_unitless = int(min_wavelength / self.augmented_resolution)\n",
    "    try:\n",
    "        period, _ = find_period_from_zeros(correlation_signal, min_period_unitless)\n",
    "        wavelength = period * self.augmented_resolution\n",
    "    except ValueError as excp:\n",
    "        raise NotExploitableSinogram('Wave length can not be computed from sinogram') from excp"
   ]
  },
  {
   "cell_type": "markdown",
   "metadata": {},
   "source": [
    "## Compute delta position\n",
    "\n",
    "Modified attributes:\n",
    "- None\n",
    "\n",
    "New variables:\n",
    "- delta_position"
   ]
  },
  {
   "cell_type": "code",
   "execution_count": null,
   "metadata": {},
   "outputs": [],
   "source": [
    "if True:\n",
    "    delta_position = self.compute_delta_position(correlation_signal, wavelength)\n",
    "else:\n",
    "    peaks_pos, _ = find_peaks(correlation_signal)\n",
    "    if peaks_pos.size == 0:\n",
    "        raise WavesEstimationError('Unable to find any directional peak')\n",
    "    argmax_ac = len(correlation_signal) // 2\n",
    "    relative_distance = (peaks_pos - argmax_ac) * self.augmented_resolution\n",
    "\n",
    "    celerity_offshore_max = celerity_offshore(\n",
    "        self.global_estimator.waves_period_max,\n",
    "        self.gravity,\n",
    "    )\n",
    "    spatial_shift_offshore_max = celerity_offshore_max * self.propagation_duration\n",
    "    spatial_shift_min = min(-spatial_shift_offshore_max, spatial_shift_offshore_max)\n",
    "    spatial_shift_max = -spatial_shift_min\n",
    "\n",
    "    stroboscopic_factor_offshore = self.propagation_duration / period_offshore(\n",
    "        1 / wavelength, self.gravity)\n",
    "    \n",
    "    if abs(stroboscopic_factor_offshore) >= 1:\n",
    "        # unused for s2\n",
    "        print('test stroboscopie vrai')\n",
    "        spatial_shift_offshore_max = (\n",
    "            self.local_estimator_params['PEAK_POSITION_MAX_FACTOR']\n",
    "            * stroboscopic_factor_offshore\n",
    "            * wavelength\n",
    "        )\n",
    "\n",
    "    pt_in_range = peaks_pos[np.where(\n",
    "        (relative_distance >= spatial_shift_min)\n",
    "        & (relative_distance < spatial_shift_max)\n",
    "    )]\n",
    "    if pt_in_range.size == 0:\n",
    "        raise WavesEstimationError('Unable to find any directional peak')\n",
    "    argmax = pt_in_range[correlation_signal[pt_in_range].argmax()]\n",
    "    delta_position = (argmax - argmax_ac) * self.augmented_resolution\n"
   ]
  },
  {
   "cell_type": "markdown",
   "metadata": {},
   "source": [
    "## Save wave field estimation\n",
    "\n",
    "New elements:\n",
    "- local_estimator.bathymetry_estimations"
   ]
  },
  {
   "cell_type": "code",
   "execution_count": null,
   "metadata": {},
   "outputs": [],
   "source": [
    "if True:\n",
    "    self.save_wave_field_estimation(estimated_direction, wavelength, delta_position)\n",
    "else:\n",
    "    bathymetry_estimation = cast(\n",
    "        SpatialCorrelationBathyEstimation,\n",
    "        self.create_bathymetry_estimation(estimated_direction, wavelength),\n",
    "    )\n",
    "    bathymetry_estimation.delta_position = delta_position\n",
    "    self.bathymetry_estimations.append(bathymetry_estimation)\n",
    "\n",
    "sinograms_1D = build_sinograms_1D_analysis_spatial_correlation(self)\n",
    "sinograms = build_sinograms_spatial_correlation(self)\n",
    "waves_images = build_waves_images_spatial_correl(self)"
   ]
  },
  {
   "cell_type": "code",
   "execution_count": null,
   "metadata": {},
   "outputs": [],
   "source": [
    "self.bathymetry_estimations[0].is_physical()"
   ]
  },
  {
   "cell_type": "code",
   "execution_count": null,
   "metadata": {},
   "outputs": [],
   "source": [
    "dataset = build_dataset(\n",
    "    bathy_estimator,\n",
    "    ortho_bathy_estimator,\n",
    "    self,\n",
    ")\n",
    "dataset"
   ]
  },
  {
   "cell_type": "markdown",
   "metadata": {},
   "source": [
    "## TODO\n",
    "\n",
    "- Créer une fonction pour les premières étapes ✅\n",
    "- Documenter les modifications des attributs d'instance de chaque méthode du run ✅\n",
    "- Eclater la cellule de run ✅\n",
    "- rentrer dans chaque étape ✅\n",
    "- flag _DEFAULT pour chaque étape ou custom function ✅\n",
    "- faire la même chose pour les 3 méthodes\n",
    "- vérifier la VT ✅\n",
    "- vérifier l'exécution sur JupyterHub\n",
    "\n",
    "\n",
    "Option: Configuration pydantic ✅"
   ]
  }
 ],
 "metadata": {
  "kernelspec": {
   "display_name": "s2shores",
   "language": "python",
   "name": "s2shores"
  },
  "language_info": {
   "codemirror_mode": {
    "name": "ipython",
    "version": 3
   },
   "file_extension": ".py",
   "mimetype": "text/x-python",
   "name": "python",
   "nbconvert_exporter": "python",
   "pygments_lexer": "ipython3",
   "version": "3.11.9"
  }
 },
 "nbformat": 4,
 "nbformat_minor": 4
}
