{
 "cells": [
  {
   "cell_type": "code",
   "execution_count": null,
   "metadata": {},
   "outputs": [],
   "source": [
    "from pathlib import Path\n",
    "from typing import Literal\n",
    "\n",
    "from shapely.geometry import Point\n",
    "\n",
    "from s2shores.bathy_debug.spatial_dft_bathy_estimator_debug import SpatialDFTBathyEstimatorDebug\n",
    "from s2shores.bathy_debug.spatial_correlation_bathy_estimator_debug import SpatialCorrelationBathyEstimatorDebug\n",
    "from s2shores.waves_exceptions import WavesEstimationError\n",
    "\n",
    "from utils import initialize_sequential_run, build_dataset"
   ]
  },
  {
   "cell_type": "code",
   "execution_count": null,
   "metadata": {},
   "outputs": [],
   "source": [
    "base_path = Path(\"../TestsS2Shores\").resolve()\n",
    "test_case: Literal[\"7_4\", \"8_2\"] = \"8_2\"\n",
    "method: Literal[\"spatial_corr\", \"spatial_dft\", \"temporal_corr\"] = \"spatial_corr\"\n",
    "\n",
    "product_path: Path = base_path / \"products\" / f\"SWASH_{test_case}/testcase_{test_case}.tif\"\n",
    "config_path: Path = base_path / f\"reference_results/debug_pointswash_{method}/wave_bathy_inversion_config.yaml\"\n",
    "debug_file: Path = base_path / f\"debug_points/debug_points_SWASH_{test_case}.yaml\"\n",
    "\n",
    "estimation_point = Point(451.0, 499.0)"
   ]
  },
  {
   "cell_type": "code",
   "execution_count": null,
   "metadata": {},
   "outputs": [],
   "source": [
    "bathy_estimator, ortho_bathy_estimator, ortho_sequence, config = initialize_sequential_run(\n",
    "    product_path=product_path,\n",
    "    config_path=config_path,\n",
    "    point=estimation_point,\n",
    ")"
   ]
  },
  {
   "cell_type": "markdown",
   "metadata": {},
   "source": [
    "If you want to change any parameter of the configuration, modify the values of the object `config` as you would with a dict.  \n",
    "\n",
    "Example:\n",
    "```python\n",
    "config[\"parameter\"] = \"new_value\"\n",
    "```"
   ]
  },
  {
   "cell_type": "code",
   "execution_count": null,
   "metadata": {},
   "outputs": [],
   "source": [
    "local_bathy_estimator = SpatialCorrelationBathyEstimatorDebug(\n",
    "    estimation_point,\n",
    "    ortho_sequence,\n",
    "    bathy_estimator,\n",
    ")\n",
    "\n",
    "if not local_bathy_estimator.can_estimate_bathy():\n",
    "    raise WavesEstimationError(\"Cannot estimate bathy.\")"
   ]
  },
  {
   "cell_type": "markdown",
   "metadata": {},
   "source": [
    "## Preprocess images"
   ]
  },
  {
   "cell_type": "code",
   "execution_count": null,
   "metadata": {},
   "outputs": [],
   "source": [
    "if True:\n",
    "    local_bathy_estimator.preprocess_images()\n",
    "else:\n",
    "    # Write your custom code here.\n",
    "    ...\n"
   ]
  },
  {
   "cell_type": "markdown",
   "metadata": {},
   "source": [
    "## Find direction"
   ]
  },
  {
   "cell_type": "code",
   "execution_count": null,
   "metadata": {},
   "outputs": [],
   "source": [
    "if True:\n",
    "    estimated_direction = local_bathy_estimator.find_direction()\n",
    "else:\n",
    "    # Write your custom code here.\n",
    "    ...\n"
   ]
  },
  {
   "cell_type": "markdown",
   "metadata": {},
   "source": [
    "## Compute radon transforms"
   ]
  },
  {
   "cell_type": "code",
   "execution_count": null,
   "metadata": {},
   "outputs": [],
   "source": [
    "if True:\n",
    "    local_bathy_estimator.compute_radon_transforms(estimated_direction)\n",
    "else:\n",
    "    # Write your custom code here.\n",
    "    ...\n"
   ]
  },
  {
   "cell_type": "markdown",
   "metadata": {},
   "source": [
    "## Compute spatial correlation"
   ]
  },
  {
   "cell_type": "code",
   "execution_count": null,
   "metadata": {},
   "outputs": [],
   "source": [
    "if True:\n",
    "    correlation_signal = local_bathy_estimator.compute_spatial_correlation(estimated_direction)\n",
    "else:\n",
    "    # Write your custom code here.\n",
    "    ...\n"
   ]
  },
  {
   "cell_type": "markdown",
   "metadata": {},
   "source": [
    "## Compute wavelength"
   ]
  },
  {
   "cell_type": "code",
   "execution_count": null,
   "metadata": {},
   "outputs": [],
   "source": [
    "if True:\n",
    "    wavelength = local_bathy_estimator.compute_wavelength(correlation_signal)\n",
    "else:\n",
    "    # Write your custom code here.\n",
    "    ...\n"
   ]
  },
  {
   "cell_type": "markdown",
   "metadata": {},
   "source": [
    "## Compute delta position"
   ]
  },
  {
   "cell_type": "code",
   "execution_count": null,
   "metadata": {},
   "outputs": [],
   "source": [
    "if True:\n",
    "    delta_position = local_bathy_estimator.compute_delta_position(correlation_signal, wavelength)\n",
    "else:\n",
    "    # Write your custom code here.\n",
    "    ...\n"
   ]
  },
  {
   "cell_type": "markdown",
   "metadata": {},
   "source": [
    "## Save wave field estimation"
   ]
  },
  {
   "cell_type": "code",
   "execution_count": null,
   "metadata": {},
   "outputs": [],
   "source": [
    "if True:\n",
    "    local_bathy_estimator.save_wave_field_estimation(estimated_direction, wavelength, delta_position)\n",
    "else:\n",
    "    # Write your custom code here.\n",
    "    ...\n"
   ]
  },
  {
   "cell_type": "code",
   "execution_count": null,
   "metadata": {},
   "outputs": [],
   "source": [
    "local_bathy_estimator.bathymetry_estimations[0].is_physical()"
   ]
  },
  {
   "cell_type": "code",
   "execution_count": null,
   "metadata": {},
   "outputs": [],
   "source": [
    "dataset = build_dataset(\n",
    "    bathy_estimator,\n",
    "    ortho_bathy_estimator,\n",
    "    local_bathy_estimator,\n",
    ")\n",
    "dataset"
   ]
  },
  {
   "cell_type": "markdown",
   "metadata": {},
   "source": [
    "## TODO\n",
    "\n",
    "- Créer une fonction pour les premières étapes ✅\n",
    "- Documenter les modifications des attributs d'instance de chaque méthode du run\n",
    "- Eclater la cellule de run ✅\n",
    "- rentrer dans chaque étape\n",
    "- flag _DEFAULT pour chaque étape ou custom function ✅\n",
    "- faire la même chose pour les 3 méthodes\n",
    "\n",
    "\n",
    "\n",
    "Option: Configuration pydantic"
   ]
  },
  {
   "cell_type": "code",
   "execution_count": null,
   "metadata": {},
   "outputs": [],
   "source": []
  }
 ],
 "metadata": {
  "kernelspec": {
   "display_name": "s2shores_env",
   "language": "python",
   "name": "python3"
  },
  "language_info": {
   "codemirror_mode": {
    "name": "ipython",
    "version": 3
   },
   "file_extension": ".py",
   "mimetype": "text/x-python",
   "name": "python",
   "nbconvert_exporter": "python",
   "pygments_lexer": "ipython3",
   "version": "3.12.9"
  }
 },
 "nbformat": 4,
 "nbformat_minor": 2
}
