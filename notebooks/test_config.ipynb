{
 "cells": [
  {
   "cell_type": "code",
   "execution_count": null,
   "id": "c1b7ea8b",
   "metadata": {},
   "outputs": [],
   "source": [
    "from pathlib import Path\n",
    "from pprint import pprint\n",
    "import yaml\n",
    "\n",
    "from s2shores.global_bathymetry.bathy_config import BathyConfig\n",
    "from utils import read_config\n"
   ]
  },
  {
   "cell_type": "code",
   "execution_count": null,
   "id": "9e39c131",
   "metadata": {},
   "outputs": [],
   "source": [
    "config_path = Path(\n",
    "    \"../TestsS2Shores/reference_results/debug_pointswash_temporal_corr\"\n",
    "    \"/wave_bathy_inversion_config.yaml\"\n",
    ")\n",
    "cfg_dict = read_config(config_path)"
   ]
  },
  {
   "cell_type": "code",
   "execution_count": null,
   "id": "3f42d63c",
   "metadata": {},
   "outputs": [],
   "source": [
    "config = BathyConfig.model_validate(cfg_dict)"
   ]
  },
  {
   "cell_type": "code",
   "execution_count": null,
   "id": "6f5558ab",
   "metadata": {},
   "outputs": [],
   "source": [
    "pprint(config.model_dump())"
   ]
  }
 ],
 "metadata": {
  "kernelspec": {
   "display_name": "s2shores_env",
   "language": "python",
   "name": "python3"
  },
  "language_info": {
   "codemirror_mode": {
    "name": "ipython",
    "version": 3
   },
   "file_extension": ".py",
   "mimetype": "text/x-python",
   "name": "python",
   "nbconvert_exporter": "python",
   "pygments_lexer": "ipython3",
   "version": "3.12.9"
  }
 },
 "nbformat": 4,
 "nbformat_minor": 5
}
